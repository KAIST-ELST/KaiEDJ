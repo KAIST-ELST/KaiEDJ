{
 "cells": [
  {
   "cell_type": "code",
   "execution_count": 2,
   "metadata": {},
   "outputs": [
    {
     "name": "stdout",
     "output_type": "stream",
     "text": [
      "./data/Gw_1_1_i7.dat\n",
      "./data/Gw_2_2_i7.dat\n",
      "axis :  (-0.1515148362421444, 3.194686794010582, -11.0, 11.0)\n"
     ]
    },
    {
     "data": {
      "image/png": "[encoded data removed]",
      "text/plain": [
       "<Figure size 144x432 with 1 Axes>"
      ]
     },
     "metadata": {
      "needs_background": "light"
     },
     "output_type": "display_data"
    }
   ],
   "source": [
    "import numpy as np\n",
    "import matplotlib.pyplot as plt\n",
    "\n",
    "dirname = \"./\"\n",
    "\n",
    "plt.rcParams.update({'font.size': 22})\n",
    "plt.rcParams.update({'legend.fontsize': 22})\n",
    "\n",
    "fig, ax = plt.subplots(figsize=(2,6))\n",
    "\n",
    "\n",
    "import os\n",
    "\n",
    "dat1_fullname     = os.path.join( dirname, 'data/Gw_1_1_i7.dat')\n",
    "print( dat1_fullname )\n",
    "dat2_fullname     = os.path.join( dirname, 'data/Gw_2_2_i7.dat')\n",
    "print( dat2_fullname )\n",
    "\n",
    "x1_freq, g1_re, g1_im = np.genfromtxt( dat1_fullname ).transpose()\n",
    "x2_freq, g2_re, g2_im = np.genfromtxt( dat2_fullname ).transpose()\n",
    "\n",
    "plt.fill( -g1_im, x1_freq, \"b-\", label=\"DMFT\"+r\"($\\sigma=\\downarrow$)\", alpha=0.6 )\n",
    "plt.fill( -g2_im, x2_freq, \"r-\", label=\"DMFT\"+r\"($\\sigma=\\uparrow$)\"  , alpha=0.6 )\n",
    "\n",
    "plt.plot( -g1_im, x1_freq, \"b-\", alpha=0.6 )\n",
    "plt.plot( -g2_im, x2_freq, \"r-\", alpha=0.6 )\n",
    "\n",
    "plt.legend(fontsize=8)\n",
    "\n",
    "# ax.set_axisbelow(True)\n",
    "print( \"axis : \", ax.axis() )\n",
    "\n",
    "\n",
    "# plt.grid(axis=\"y\",color=\"grey\",linestyle=\":\")\n",
    "plt.subplots_adjust( left=0.25 )\n",
    "plt.savefig(\"fig_lco_dos_U6.pdf\")"
   ]
  },
  {
   "cell_type": "code",
   "execution_count": null,
   "metadata": {},
   "outputs": [],
   "source": []
  }
 ],
 "metadata": {
  "kernelspec": {
   "display_name": "Python 3",
   "language": "python",
   "name": "python3"
  },
  "language_info": {
   "codemirror_mode": {
    "name": "ipython",
    "version": 3
   },
   "file_extension": ".py",
   "mimetype": "text/x-python",
   "name": "python",
   "nbconvert_exporter": "python",
   "pygments_lexer": "ipython3",
   "version": "3.9.6"
  }
 },
 "nbformat": 4,
 "nbformat_minor": 2
}
